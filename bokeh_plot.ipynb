{
 "cells": [
  {
   "cell_type": "code",
   "execution_count": 2,
   "id": "2d8372e9",
   "metadata": {},
   "outputs": [],
   "source": [
    "from bokeh.layouts import row\n",
    "from bokeh.models import ColumnDataSource, CustomJS, TapTool\n",
    "from bokeh.plotting import figure, show, save\n",
    "from bokeh.io import output_file\n",
    "import numpy as np\n",
    "\n",
    "source_bars = ColumnDataSource({'x': [1, 2, 3], 'y': [2, 4, 1] , 'colnames': ['A', 'B', 'C']})\n",
    "lines_y = [np.random.random(5) for i in range(3)]\n",
    "\n",
    "plot1 = figure(tools = 'tap')\n",
    "bars = plot1.vbar(x = 'x', top = 'y', source = source_bars, bottom = 0, width = 0.5)\n",
    "\n",
    "plot2 = figure()\n",
    "lines = plot2.line(x = 'x', y = 'y', source = ColumnDataSource({'x': np.arange(5), 'y': lines_y[0]}))\n",
    "lines.visible = False\n",
    "\n",
    "code = '''if (cb_data.source.selected.indices.length > 0){\n",
    "            lines.visible = true;\n",
    "            var selected_index = cb_data.source.selected.indices[0];\n",
    "            lines.data_source.data['y'] = lines_y[selected_index]\n",
    "            lines.data_source.change.emit(); \n",
    "          }'''\n",
    "\n",
    "plots = row(plot1, plot2)\n",
    "plot1.select(TapTool).callback = CustomJS(args = {'lines': lines, 'lines_y': lines_y}, code = code)\n",
    "\n",
    "output_file('src/assets/test.html')"
   ]
  },
  {
   "cell_type": "code",
   "execution_count": 3,
   "id": "37b18377",
   "metadata": {},
   "outputs": [
    {
     "data": {
      "text/plain": [
       "'C:\\\\Users\\\\ra\\\\Documents\\\\dev\\\\vue\\\\bootstrap-vue-app\\\\src\\\\assets\\\\test.html'"
      ]
     },
     "execution_count": 3,
     "metadata": {},
     "output_type": "execute_result"
    }
   ],
   "source": [
    "save(plots)"
   ]
  },
  {
   "cell_type": "code",
   "execution_count": null,
   "id": "59740fa2",
   "metadata": {},
   "outputs": [],
   "source": []
  }
 ],
 "metadata": {
  "kernelspec": {
   "display_name": "Python 3",
   "language": "python",
   "name": "python3"
  },
  "language_info": {
   "codemirror_mode": {
    "name": "ipython",
    "version": 3
   },
   "file_extension": ".py",
   "mimetype": "text/x-python",
   "name": "python",
   "nbconvert_exporter": "python",
   "pygments_lexer": "ipython3",
   "version": "3.9.5"
  }
 },
 "nbformat": 4,
 "nbformat_minor": 5
}
